{
 "cells": [
  {
   "cell_type": "code",
   "execution_count": null,
   "metadata": {},
   "outputs": [],
   "source": [
    "import pyodbc\n",
    "import getpass\n",
    "import pandas as pd\n",
    "from os import path\n",
    "import time"
   ]
  },
  {
   "cell_type": "code",
   "execution_count": null,
   "metadata": {},
   "outputs": [],
   "source": [
    "dir_data = '/path/to/data/dir'\n",
    "file_concepts = path.join(dir_data, 'concepts2.csv')\n",
    "file_persons = path.join(dir_data, 'persons.csv')\n",
    "file_ingredients = path.join(dir_data, 'drug_ingredients.csv')\n",
    "file_condition_ancestors = path.join(dir_data, 'condition_ancestors.csv')\n",
    "\n",
    "# SQL server config\n",
    "sql_config = {\n",
    "    'driver': '',\n",
    "    'server': '',\n",
    "    'database': '',\n",
    "    'uid': ''\n",
    "}"
   ]
  },
  {
   "cell_type": "code",
   "execution_count": null,
   "metadata": {},
   "outputs": [],
   "source": [
    "pwd=getpass.getpass()"
   ]
  },
  {
   "cell_type": "code",
   "execution_count": null,
   "metadata": {},
   "outputs": [],
   "source": [
    "conn = pyodbc.connect(**sql_config, pwd=pwd)\n",
    "cursor = conn.cursor()"
   ]
  },
  {
   "cell_type": "markdown",
   "metadata": {},
   "source": [
    "# Get Metadata"
   ]
  },
  {
   "cell_type": "markdown",
   "metadata": {},
   "source": [
    "### Get concept definitions"
   ]
  },
  {
   "cell_type": "code",
   "execution_count": null,
   "metadata": {},
   "outputs": [],
   "source": [
    "sql = \"\"\"SELECT concept_id, concept_name, domain_id, vocabulary_id, concept_class_id, standard_concept, concept_code, valid_start_date, valid_end_date, invalid_reason\n",
    "    FROM concept;\"\"\"\n",
    "df_concpets = pd.read_sql(sql, conn)\n",
    "df_concpets.to_csv(file_concepts, sep='\\t', na_rep='NULL', header=True, index=False)"
   ]
  },
  {
   "cell_type": "markdown",
   "metadata": {},
   "source": [
    "### Get ingredients for each drug"
   ]
  },
  {
   "cell_type": "code",
   "execution_count": null,
   "metadata": {},
   "outputs": [],
   "source": [
    "sql = \"\"\"SELECT drug_concept_id, ancestor_concept_id\n",
    "FROM \n",
    "    (SELECT DISTINCT drug_concept_id\n",
    "    FROM drug_exposure) de\n",
    "JOIN concept_ancestor ca ON ca.descendant_concept_id = de.drug_concept_id\n",
    "JOIN concept c_a ON ca.ancestor_concept_id = c_a.concept_id\n",
    "WHERE c_a.concept_class_id = 'Ingredient';\"\"\"\n",
    "df_ingredients = pd.read_sql(sql, conn)\n",
    "df_ingredients.to_csv(file_ingredients, sep='\\t', na_rep='NULL', header=True, index=False)\n",
    "df_ingredients.head(10)"
   ]
  },
  {
   "cell_type": "markdown",
   "metadata": {},
   "source": [
    "### Get ancestors for concepts\n",
    "Only use concepts that already have observations so that we don't introduce a large new set\n",
    "Keep only up to a max_levels of 3 so that observed concepts don't contribute too far up the chain"
   ]
  },
  {
   "cell_type": "code",
   "execution_count": null,
   "metadata": {},
   "outputs": [],
   "source": [
    "sql = \"\"\" SELECT DISTINCT condition_concept_id\n",
    "INTO #observed_conditions\n",
    "FROM condition_occurrence;\"\"\"\n",
    "cursor.execute(sql)\n",
    "\n",
    "sql = \"\"\"SELECT ocd.condition_concept_id, ca.ancestor_concept_id\n",
    "FROM #observed_conditions ocd\n",
    "JOIN concept_ancestor ca ON ca.descendant_concept_id = ocd.condition_concept_id\n",
    "JOIN #observed_conditions oca ON ca.ancestor_concept_id = oca.condition_concept_id\n",
    "WHERE ca.min_levels_of_separation > 0 AND ca.max_levels_of_separation <= 2;\"\"\"\n",
    "df_condition_ancestors = pd.read_sql(sql, conn)\n",
    "df_condition_ancestors.to_csv(file_condition_ancestors, sep='\\t', na_rep='NULL', header=True, index=False)\n",
    "df_condition_ancestors.head(10)"
   ]
  },
  {
   "cell_type": "markdown",
   "metadata": {},
   "source": [
    "# Get patient data"
   ]
  },
  {
   "cell_type": "markdown",
   "metadata": {},
   "source": [
    "### Patient data extraction without data cleaning (default)"
   ]
  },
  {
   "cell_type": "code",
   "execution_count": null,
   "metadata": {},
   "outputs": [],
   "source": [
    "sql = \"\"\"SELECT person_id, gender_concept_id, CONVERT(DATE, birth_datetime) AS birth_date, race_concept_id, ethnicity_concept_id \n",
    "    FROM person\"\"\"\n",
    "df_persons = pd.read_sql(sql, conn)\n",
    "df_persons.to_csv(file_persons, sep='\\t', na_rep='NULL', header=True, index=False)\n",
    "n_persons = len(df_persons.index)"
   ]
  },
  {
   "cell_type": "markdown",
   "metadata": {},
   "source": [
    "### Patient data extraction with data cleaning"
   ]
  },
  {
   "cell_type": "code",
   "execution_count": null,
   "metadata": {},
   "outputs": [],
   "source": [
    "# Get the highest ancestors of race_concept_id because our database has many asians recorded by their nationality\n",
    "# Also exclude patients whose birth_datetime is a known bad birth_datetime\n",
    "sql = \"\"\"SELECT person_id, gender_concept_id, CONVERT(DATE, p.birth_datetime) AS birth_date, r.ancestor_concept_id AS race_concept_id, ethnicity_concept_id \n",
    "    FROM person p\n",
    "    JOIN user_schema.dbo.race_ancestor_concepts r ON p.race_concept_id = r.race_concept_id\n",
    "    LEFT JOIN user_schema.dbo.ohdsi_2019q2_bad_dobs b ON p.birth_datetime = b.birth_datetime\n",
    "    WHERE b.birth_datetime IS NULL AND p.year_of_birth >= 1900;\"\"\"\n",
    "\n",
    "df_persons = pd.read_sql(sql, conn)\n",
    "df_persons.to_csv(file_persons, sep='\\t', na_rep='NULL', header=True, index=False)\n",
    "n_persons = len(df_persons.index)"
   ]
  },
  {
   "cell_type": "code",
   "execution_count": null,
   "metadata": {},
   "outputs": [],
   "source": [
    "df_persons.columns"
   ]
  },
  {
   "cell_type": "markdown",
   "metadata": {},
   "source": [
    "## Get sequence for each patient"
   ]
  },
  {
   "cell_type": "code",
   "execution_count": null,
   "metadata": {},
   "outputs": [],
   "source": [
    "# Read df_persons back in from file\n",
    "df_persons = pd.read_csv(file_persons, sep='\\t', header=0)\n",
    "n_persons = len(df_persons.index)"
   ]
  },
  {
   "cell_type": "code",
   "execution_count": null,
   "metadata": {
    "scrolled": true
   },
   "outputs": [],
   "source": [
    "t1 = time.time()\n",
    "\n",
    "sql = \"\"\"SELECT x.*\n",
    "FROM \n",
    "    ((SELECT co.condition_concept_id AS concept_id, MIN(co.condition_start_date) AS start_date\n",
    "    FROM dbo.condition_occurrence co\n",
    "    LEFT JOIN user_schema.dbo.iatrogenic_codes_with_desc i ON co.condition_concept_id = i.concept_id\n",
    "    JOIN concept c ON co.condition_concept_id = c.concept_id\n",
    "    LEFT JOIN visit_occurrence v ON co.visit_occurrence_id = v.visit_occurrence_id\n",
    "    WHERE co.person_id = ? AND co.condition_concept_id != 0 AND i.concept_id IS NULL AND co.condition_start_date >= ? \n",
    "        AND c.domain_id = 'Condition' AND (v.visit_occurrence_id IS NULL OR co.condition_start_date <= v.visit_end_date)\n",
    "    GROUP BY condition_concept_id)\n",
    "    UNION\n",
    "    (SELECT do.drug_concept_id AS concept_id, MIN(do.drug_exposure_start_date) AS start_date\n",
    "    FROM dbo.drug_exposure do\n",
    "    LEFT JOIN user_schema.dbo.iatrogenic_codes_with_desc i ON do.drug_concept_id = i.concept_id\n",
    "    JOIN concept c ON do.drug_concept_id = c.concept_id\n",
    "    LEFT JOIN visit_occurrence v ON do.visit_occurrence_id = v.visit_occurrence_id\n",
    "    WHERE do.person_id = ? AND do.drug_concept_id != 0 AND i.concept_id IS NULL AND do.drug_exposure_start_date >= ? \n",
    "        AND c.domain_id = 'Drug' AND (v.visit_occurrence_id IS NULL OR do.drug_exposure_start_date <= v.visit_end_date)\n",
    "    GROUP BY drug_concept_id)\n",
    "    UNION\n",
    "    (SELECT po.procedure_concept_id AS concept_id, MIN(po.procedure_date) AS start_date\n",
    "    FROM dbo.procedure_occurrence po\n",
    "    LEFT JOIN user_schema.dbo.iatrogenic_codes_with_desc i ON po.procedure_concept_id = i.concept_id\n",
    "    JOIN concept c ON po.procedure_concept_id = c.concept_id\n",
    "    LEFT JOIN visit_occurrence v ON po.visit_occurrence_id = v.visit_occurrence_id\n",
    "    WHERE po.person_id = ? AND po.procedure_concept_id != 0 AND i.concept_id IS NULL AND po.procedure_date >= ? \n",
    "        AND c.domain_id = 'Procedure' AND (v.visit_occurrence_id IS NULL OR po.procedure_date <= v.visit_end_date)\n",
    "    GROUP BY procedure_concept_id)) x\n",
    "ORDER BY x.start_date;\n",
    "\"\"\"\n",
    "\n",
    "def _serialize_sequence(res):\n",
    "    return '\\t'.join([str(x[0]) + ',' + x[1].strftime('%Y-%m-%d') for x in res])\n",
    "\n",
    "with open(path.join(dir_data, 'patient_code_sequences.txt'), 'w') as fh:\n",
    "    print('patient sequence progress: ')\n",
    "    n_patients = 0\n",
    "    for index, row in df_persons.iterrows():\n",
    "        # Display progress\n",
    "        if index % 100000 == 0:\n",
    "            percent = index / n_persons * 100\n",
    "            elapsed_time = (time.time() - t1) / 60\n",
    "            print(f'\\t{percent:.02f}% - {elapsed_time:.01f} min')\n",
    "        \n",
    "        # Get a sequence of the patient's codes and dates\n",
    "        pid = row['person_id']\n",
    "        dob = row['birth_date']\n",
    "        cursor.execute(sql, pid, dob, pid, dob, pid, dob)\n",
    "        res = cursor.fetchall()\n",
    "        \n",
    "        # Write the sequence if it's not empty\n",
    "        if res:\n",
    "            sequence_str = _serialize_sequence(res)\n",
    "            fh.write(str(pid) + '\\t' + sequence_str + '\\n')\n",
    "            n_patients += 1\n",
    "\n",
    "elapsed_time = (time.time() - t1) / 60\n",
    "print(elapsed_time)"
   ]
  },
  {
   "cell_type": "code",
   "execution_count": null,
   "metadata": {},
   "outputs": [],
   "source": []
  }
 ],
 "metadata": {
  "kernelspec": {
   "display_name": "Python 3",
   "language": "python",
   "name": "python3"
  },
  "language_info": {
   "codemirror_mode": {
    "name": "ipython",
    "version": 3
   },
   "file_extension": ".py",
   "mimetype": "text/x-python",
   "name": "python",
   "nbconvert_exporter": "python",
   "pygments_lexer": "ipython3",
   "version": "3.7.3"
  }
 },
 "nbformat": 4,
 "nbformat_minor": 2
}
